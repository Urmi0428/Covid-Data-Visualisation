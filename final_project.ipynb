{
 "cells": [
  {
   "cell_type": "code",
   "execution_count": 4,
   "id": "0638897d",
   "metadata": {},
   "outputs": [],
   "source": [
    "\n",
    "import pandas as pd\n",
    "import pyodbc"
   ]
  },
  {
   "cell_type": "code",
   "execution_count": 5,
   "id": "b5d75d07",
   "metadata": {},
   "outputs": [],
   "source": [
    "sql_conn = pyodbc.connect(Trusted_Connection='Yes',\n",
    "    Driver='{ODBC Driver 17 for SQL Server}',\n",
    "    Server='.\\sqlexpress',\n",
    "    Database='project') "
   ]
  },
  {
   "cell_type": "code",
   "execution_count": 6,
   "id": "1775ea44",
   "metadata": {},
   "outputs": [],
   "source": [
    "query = \"SELECT Province.provName, DATENAME(YEAR,CONVERT(datetime, covid_stats.date_report,105)) + '_' +DATENAME(QUARTER,CONVERT(datetime, covid_stats.date_report,105)) AS [YrQtr] ,  SUM(covid_stats.cases) AS [TotalCases] FROM  Province  join covid_stats  ON covid_stats.provCode = Province.provCode WHERE covid_stats.provCode = 'ON' GROUP BY Province.provName,DATENAME(YEAR,CONVERT(datetime, covid_stats.date_report,105)) +'_' +DATENAME(QUARTER,CONVERT(datetime, covid_stats.date_report,105))\"\n",
    "\n",
    "df = pd.read_sql(query, sql_conn)"
   ]
  },
  {
   "cell_type": "code",
   "execution_count": 7,
   "id": "d865e590",
   "metadata": {},
   "outputs": [
    {
     "data": {
      "text/html": [
       "<div>\n",
       "<style scoped>\n",
       "    .dataframe tbody tr th:only-of-type {\n",
       "        vertical-align: middle;\n",
       "    }\n",
       "\n",
       "    .dataframe tbody tr th {\n",
       "        vertical-align: top;\n",
       "    }\n",
       "\n",
       "    .dataframe thead th {\n",
       "        text-align: right;\n",
       "    }\n",
       "</style>\n",
       "<table border=\"1\" class=\"dataframe\">\n",
       "  <thead>\n",
       "    <tr style=\"text-align: right;\">\n",
       "      <th></th>\n",
       "      <th>provName</th>\n",
       "      <th>YrQtr</th>\n",
       "      <th>TotalCases</th>\n",
       "    </tr>\n",
       "  </thead>\n",
       "  <tbody>\n",
       "    <tr>\n",
       "      <th>0</th>\n",
       "      <td>Ontario</td>\n",
       "      <td>2020_1</td>\n",
       "      <td>1964</td>\n",
       "    </tr>\n",
       "    <tr>\n",
       "      <th>1</th>\n",
       "      <td>Ontario</td>\n",
       "      <td>2020_2</td>\n",
       "      <td>34849</td>\n",
       "    </tr>\n",
       "    <tr>\n",
       "      <th>2</th>\n",
       "      <td>Ontario</td>\n",
       "      <td>2020_3</td>\n",
       "      <td>17064</td>\n",
       "    </tr>\n",
       "    <tr>\n",
       "      <th>3</th>\n",
       "      <td>Ontario</td>\n",
       "      <td>2020_4</td>\n",
       "      <td>132346</td>\n",
       "    </tr>\n",
       "    <tr>\n",
       "      <th>4</th>\n",
       "      <td>Ontario</td>\n",
       "      <td>2021_1</td>\n",
       "      <td>169541</td>\n",
       "    </tr>\n",
       "    <tr>\n",
       "      <th>5</th>\n",
       "      <td>Ontario</td>\n",
       "      <td>2021_2</td>\n",
       "      <td>195446</td>\n",
       "    </tr>\n",
       "    <tr>\n",
       "      <th>6</th>\n",
       "      <td>Ontario</td>\n",
       "      <td>2021_3</td>\n",
       "      <td>41542</td>\n",
       "    </tr>\n",
       "    <tr>\n",
       "      <th>7</th>\n",
       "      <td>Ontario</td>\n",
       "      <td>2021_4</td>\n",
       "      <td>180435</td>\n",
       "    </tr>\n",
       "    <tr>\n",
       "      <th>8</th>\n",
       "      <td>Ontario</td>\n",
       "      <td>2022_1</td>\n",
       "      <td>403915</td>\n",
       "    </tr>\n",
       "    <tr>\n",
       "      <th>9</th>\n",
       "      <td>Ontario</td>\n",
       "      <td>2022_2</td>\n",
       "      <td>12030</td>\n",
       "    </tr>\n",
       "  </tbody>\n",
       "</table>\n",
       "</div>"
      ],
      "text/plain": [
       "  provName   YrQtr  TotalCases\n",
       "0  Ontario  2020_1        1964\n",
       "1  Ontario  2020_2       34849\n",
       "2  Ontario  2020_3       17064\n",
       "3  Ontario  2020_4      132346\n",
       "4  Ontario  2021_1      169541\n",
       "5  Ontario  2021_2      195446\n",
       "6  Ontario  2021_3       41542\n",
       "7  Ontario  2021_4      180435\n",
       "8  Ontario  2022_1      403915\n",
       "9  Ontario  2022_2       12030"
      ]
     },
     "execution_count": 7,
     "metadata": {},
     "output_type": "execute_result"
    }
   ],
   "source": [
    "df"
   ]
  },
  {
   "cell_type": "code",
   "execution_count": 8,
   "id": "5fdfea28",
   "metadata": {},
   "outputs": [
    {
     "data": {
      "image/png": "[encoded data removed]",
      "text/plain": [
       "<Figure size 432x288 with 1 Axes>"
      ]
     },
     "metadata": {
      "needs_background": "light"
     },
     "output_type": "display_data"
    }
   ],
   "source": [
    "df.plot.bar(x=\"YrQtr\", rot=70, title=\"Total Cases By Quarter Within Year - Ontario \");"
   ]
  },
  {
   "cell_type": "code",
   "execution_count": null,
   "id": "6a3af92c",
   "metadata": {},
   "outputs": [],
   "source": []
  }
 ],
 "metadata": {
  "kernelspec": {
   "display_name": "Python 3 (ipykernel)",
   "language": "python",
   "name": "python3"
  },
  "language_info": {
   "codemirror_mode": {
    "name": "ipython",
    "version": 3
   },
   "file_extension": ".py",
   "mimetype": "text/x-python",
   "name": "python",
   "nbconvert_exporter": "python",
   "pygments_lexer": "ipython3",
   "version": "3.9.7"
  }
 },
 "nbformat": 4,
 "nbformat_minor": 5
}
